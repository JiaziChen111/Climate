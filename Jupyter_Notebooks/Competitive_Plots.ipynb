{
 "cells": [
  {
   "cell_type": "markdown",
   "metadata": {},
   "source": [
    "## Competitive plots\n"
   ]
  },
  {
   "cell_type": "code",
   "execution_count": 1,
   "metadata": {
    "scrolled": true
   },
   "outputs": [
    {
     "ename": "ModuleNotFoundError",
     "evalue": "No module named 'estimate_damages'",
     "output_type": "error",
     "traceback": [
      "\u001b[0;31m---------------------------------------------------------------------------\u001b[0m",
      "\u001b[0;31mModuleNotFoundError\u001b[0m                       Traceback (most recent call last)",
      "\u001b[0;32m<ipython-input-1-70c29b406167>\u001b[0m in \u001b[0;36m<module>\u001b[0;34m\u001b[0m\n\u001b[1;32m      1\u001b[0m \u001b[0;31m# Import necessary packages\u001b[0m\u001b[0;34m\u001b[0m\u001b[0;34m\u001b[0m\u001b[0;34m\u001b[0m\u001b[0m\n\u001b[1;32m      2\u001b[0m \u001b[0;32mimport\u001b[0m \u001b[0mnumpy\u001b[0m \u001b[0;32mas\u001b[0m \u001b[0mnp\u001b[0m\u001b[0;34m\u001b[0m\u001b[0;34m\u001b[0m\u001b[0m\n\u001b[0;32m----> 3\u001b[0;31m \u001b[0;32mfrom\u001b[0m \u001b[0mestimate_damages\u001b[0m \u001b[0;32mimport\u001b[0m \u001b[0;34m*\u001b[0m\u001b[0;34m\u001b[0m\u001b[0;34m\u001b[0m\u001b[0m\n\u001b[0m\u001b[1;32m      4\u001b[0m \u001b[0;32mfrom\u001b[0m \u001b[0mIPython\u001b[0m\u001b[0;34m.\u001b[0m\u001b[0mcore\u001b[0m\u001b[0;34m.\u001b[0m\u001b[0mdisplay\u001b[0m \u001b[0;32mimport\u001b[0m \u001b[0mdisplay\u001b[0m\u001b[0;34m,\u001b[0m \u001b[0mHTML\u001b[0m\u001b[0;34m\u001b[0m\u001b[0;34m\u001b[0m\u001b[0m\n\u001b[1;32m      5\u001b[0m \u001b[0;32mimport\u001b[0m \u001b[0mplotly\u001b[0m\u001b[0;34m.\u001b[0m\u001b[0mio\u001b[0m \u001b[0;32mas\u001b[0m \u001b[0mpio\u001b[0m\u001b[0;34m\u001b[0m\u001b[0;34m\u001b[0m\u001b[0m\n",
      "\u001b[0;31mModuleNotFoundError\u001b[0m: No module named 'estimate_damages'"
     ]
    }
   ],
   "source": [
    "# Import necessary packages\n",
    "import numpy as np\n",
    "from estimate_damages import *\n",
    "from IPython.core.display import display, HTML\n",
    "import plotly.io as pio\n",
    "import matplotlib.pyplot as plt\n",
    "from scipy.stats import norm\n",
    "import pandas as pd\n",
    "\n",
    "try:   \n",
    "    import plotly.graph_objs as go\n",
    "    from plotly.tools import make_subplots\n",
    "    from plotly.offline import init_notebook_mode, iplot\n",
    "#     import plotly.express as px\n",
    "except ImportError:\n",
    "    print(\"Installing plotly. This may take a while.\")\n",
    "    from pip._internal import main as pipmain\n",
    "    pipmain(['install', 'plotly'])\n",
    "    import plotly.graph_objs as go\n",
    "    from plotly.subplots import make_subplots\n",
    "    from plotly.offline import init_notebook_mode, iplot\n",
    "#     import plotly.express as px\n",
    "\n",
    "init_notebook_mode()\n",
    "quad_rule = 'Legendre_5sd'"
   ]
  },
  {
   "cell_type": "code",
   "execution_count": 2,
   "metadata": {},
   "outputs": [
    {
     "ename": "NameError",
     "evalue": "name 'loadmat' is not defined",
     "output_type": "error",
     "traceback": [
      "\u001b[0;31m---------------------------------------------------------------------------\u001b[0m",
      "\u001b[0;31mNameError\u001b[0m                                 Traceback (most recent call last)",
      "\u001b[0;32m<ipython-input-2-ae6288351d19>\u001b[0m in \u001b[0;36m<module>\u001b[0;34m\u001b[0m\n\u001b[0;32m----> 1\u001b[0;31m \u001b[0mdata\u001b[0m \u001b[0;34m=\u001b[0m \u001b[0mloadmat\u001b[0m\u001b[0;34m(\u001b[0m\u001b[0;34m\"{}/50-50 weight/SCC_00002_comp.mat\"\u001b[0m\u001b[0;34m.\u001b[0m\u001b[0mformat\u001b[0m\u001b[0;34m(\u001b[0m\u001b[0mquad_rule\u001b[0m\u001b[0;34m)\u001b[0m\u001b[0;34m)\u001b[0m\u001b[0;34m\u001b[0m\u001b[0;34m\u001b[0m\u001b[0m\n\u001b[0m\u001b[1;32m      2\u001b[0m \u001b[0;34m\u001b[0m\u001b[0m\n\u001b[1;32m      3\u001b[0m \u001b[0mtotal_SCC\u001b[0m \u001b[0;34m=\u001b[0m \u001b[0mnp\u001b[0m\u001b[0;34m.\u001b[0m\u001b[0marray\u001b[0m\u001b[0;34m(\u001b[0m\u001b[0mdata\u001b[0m\u001b[0;34m[\u001b[0m\u001b[0;34m'SCC'\u001b[0m\u001b[0;34m]\u001b[0m\u001b[0;34m)\u001b[0m\u001b[0;34m[\u001b[0m\u001b[0;34m:\u001b[0m\u001b[0;34m,\u001b[0m\u001b[0;36m0\u001b[0m\u001b[0;34m]\u001b[0m\u001b[0;34m\u001b[0m\u001b[0;34m\u001b[0m\u001b[0m\n\u001b[1;32m      4\u001b[0m \u001b[0mexternal_SCC\u001b[0m \u001b[0;34m=\u001b[0m \u001b[0mnp\u001b[0m\u001b[0;34m.\u001b[0m\u001b[0marray\u001b[0m\u001b[0;34m(\u001b[0m\u001b[0mdata\u001b[0m\u001b[0;34m[\u001b[0m\u001b[0;34m'SCC2'\u001b[0m\u001b[0;34m]\u001b[0m\u001b[0;34m)\u001b[0m\u001b[0;34m[\u001b[0m\u001b[0;34m:\u001b[0m\u001b[0;34m,\u001b[0m\u001b[0;36m0\u001b[0m\u001b[0;34m]\u001b[0m\u001b[0;34m\u001b[0m\u001b[0;34m\u001b[0m\u001b[0m\n\u001b[1;32m      5\u001b[0m \u001b[0muncertainty_SCC\u001b[0m \u001b[0;34m=\u001b[0m \u001b[0mnp\u001b[0m\u001b[0;34m.\u001b[0m\u001b[0marray\u001b[0m\u001b[0;34m(\u001b[0m\u001b[0mdata\u001b[0m\u001b[0;34m[\u001b[0m\u001b[0;34m'SCC3'\u001b[0m\u001b[0;34m]\u001b[0m\u001b[0;34m)\u001b[0m\u001b[0;34m[\u001b[0m\u001b[0;34m:\u001b[0m\u001b[0;34m,\u001b[0m\u001b[0;36m0\u001b[0m\u001b[0;34m]\u001b[0m\u001b[0;34m\u001b[0m\u001b[0;34m\u001b[0m\u001b[0m\n",
      "\u001b[0;31mNameError\u001b[0m: name 'loadmat' is not defined"
     ]
    }
   ],
   "source": [
    "data = loadmat(\"{}/50-50 weight/SCC_00002_comp.mat\".format(quad_rule))\n",
    "\n",
    "total_SCC = np.array(data['SCC'])[:,0]\n",
    "external_SCC = np.array(data['SCC2'])[:,0]\n",
    "uncertainty_SCC = np.array(data['SCC3'])[:,0]\n",
    "private_SCC = np.array(data['SCC1'])[:,0]\n",
    "x = np.linspace(0,100,400)\n",
    "\n",
    "total = go.Scatter(x = x, y = total_SCC,\n",
    "               name = 'Total', line = dict(color = '#1f77b4', dash='solid', width = 4),\\\n",
    "                   showlegend = False)\n",
    "external = go.Scatter(x = x, y = external_SCC,\n",
    "               name = 'External', line = dict(color = 'red', dash='dot', width = 4),\\\n",
    "                      showlegend = False)\n",
    "uncertainty = go.Scatter(x = x, y = uncertainty_SCC,\n",
    "               name = 'Uncertainty', line = dict(color = 'green', dash='dashdot', width = 4),\\\n",
    "                         showlegend = False)\n",
    "private = go.Scatter(x = x, y = private_SCC,\n",
    "               name = 'Private', line = dict(color = 'black', dash='dash', width = 4),\\\n",
    "                     showlegend = False)\n",
    "\n",
    "annotations=[dict(x=77, y=2290, text=\"Total\", textangle=0, ax=-100,\n",
    "            ay=-75, font=dict(color=\"black\", size=12), arrowcolor=\"black\",\n",
    "            arrowsize=3, arrowwidth=1, arrowhead=1),\n",
    "             \n",
    "            dict(x=76, y=1280, text=\"External\", textangle=0, ax=80,\n",
    "            ay=-80, font=dict(color=\"black\", size=12), arrowcolor=\"black\",\n",
    "            arrowsize=3, arrowwidth=1, arrowhead=1),\n",
    "             \n",
    "            dict(x=95, y=2295, text=\"Uncertainty\", textangle=0, ax=-60,\n",
    "            ay=65, font=dict(color=\"black\", size=12), arrowcolor=\"black\",\n",
    "            arrowsize=3, arrowwidth=1, arrowhead=1),\n",
    "             \n",
    "            dict(x=96.5, y=31, text=\"Private\", textangle=0, ax=-50,\n",
    "            ay=-30, font=dict(color=\"black\", size=12), arrowcolor=\"black\",\n",
    "            arrowsize=3, arrowwidth=1, arrowhead=1)]\n",
    "\n",
    "layout = dict(title = 'Competitive SCC Decomposition-Weighted',\n",
    "              titlefont = dict(size = 32),\n",
    "              xaxis = go.layout.XAxis(title=go.layout.xaxis.Title(\n",
    "                                text='Years', font=dict(size=24)),\n",
    "                                     tickfont=dict(size=12), showgrid = False),\n",
    "              yaxis = go.layout.YAxis(title=go.layout.yaxis.Title(\n",
    "                                text='Dollars per Ton of Carbon', font=dict(size=24)),\n",
    "                                     tickfont=dict(size=12), showgrid = False), \n",
    "              annotations=annotations\n",
    "              )\n",
    "\n",
    "fig = dict(data = [total, external, uncertainty, private], layout = layout)\n",
    "iplot(fig)\n",
    "\n",
    "pio.write_image(fig, 'plots/SCC5050_comp_{}.pdf'.format(quad_rule), width=900, height=600, scale=1)"
   ]
  },
  {
   "cell_type": "code",
   "execution_count": 3,
   "metadata": {},
   "outputs": [
    {
     "ename": "NameError",
     "evalue": "name 'loadmat' is not defined",
     "output_type": "error",
     "traceback": [
      "\u001b[0;31m---------------------------------------------------------------------------\u001b[0m",
      "\u001b[0;31mNameError\u001b[0m                                 Traceback (most recent call last)",
      "\u001b[0;32m<ipython-input-3-049545f4f862>\u001b[0m in \u001b[0;36m<module>\u001b[0;34m\u001b[0m\n\u001b[0;32m----> 1\u001b[0;31m \u001b[0mdata\u001b[0m \u001b[0;34m=\u001b[0m \u001b[0mloadmat\u001b[0m\u001b[0;34m(\u001b[0m\u001b[0;34m\"{}/1 weitzman/SCC_00002_comp.mat\"\u001b[0m\u001b[0;34m.\u001b[0m\u001b[0mformat\u001b[0m\u001b[0;34m(\u001b[0m\u001b[0mquad_rule\u001b[0m\u001b[0;34m)\u001b[0m\u001b[0;34m)\u001b[0m\u001b[0;34m\u001b[0m\u001b[0;34m\u001b[0m\u001b[0m\n\u001b[0m\u001b[1;32m      2\u001b[0m \u001b[0;34m\u001b[0m\u001b[0m\n\u001b[1;32m      3\u001b[0m \u001b[0mtotal_SCC\u001b[0m \u001b[0;34m=\u001b[0m \u001b[0mnp\u001b[0m\u001b[0;34m.\u001b[0m\u001b[0marray\u001b[0m\u001b[0;34m(\u001b[0m\u001b[0mdata\u001b[0m\u001b[0;34m[\u001b[0m\u001b[0;34m'SCC'\u001b[0m\u001b[0;34m]\u001b[0m\u001b[0;34m)\u001b[0m\u001b[0;34m[\u001b[0m\u001b[0;34m:\u001b[0m\u001b[0;34m,\u001b[0m\u001b[0;36m0\u001b[0m\u001b[0;34m]\u001b[0m\u001b[0;34m\u001b[0m\u001b[0;34m\u001b[0m\u001b[0m\n\u001b[1;32m      4\u001b[0m \u001b[0mexternal_SCC\u001b[0m \u001b[0;34m=\u001b[0m \u001b[0mnp\u001b[0m\u001b[0;34m.\u001b[0m\u001b[0marray\u001b[0m\u001b[0;34m(\u001b[0m\u001b[0mdata\u001b[0m\u001b[0;34m[\u001b[0m\u001b[0;34m'SCC2'\u001b[0m\u001b[0;34m]\u001b[0m\u001b[0;34m)\u001b[0m\u001b[0;34m[\u001b[0m\u001b[0;34m:\u001b[0m\u001b[0;34m,\u001b[0m\u001b[0;36m0\u001b[0m\u001b[0;34m]\u001b[0m\u001b[0;34m\u001b[0m\u001b[0;34m\u001b[0m\u001b[0m\n\u001b[1;32m      5\u001b[0m \u001b[0muncertainty_SCC\u001b[0m \u001b[0;34m=\u001b[0m \u001b[0mnp\u001b[0m\u001b[0;34m.\u001b[0m\u001b[0marray\u001b[0m\u001b[0;34m(\u001b[0m\u001b[0mdata\u001b[0m\u001b[0;34m[\u001b[0m\u001b[0;34m'SCC3'\u001b[0m\u001b[0;34m]\u001b[0m\u001b[0;34m)\u001b[0m\u001b[0;34m[\u001b[0m\u001b[0;34m:\u001b[0m\u001b[0;34m,\u001b[0m\u001b[0;36m0\u001b[0m\u001b[0;34m]\u001b[0m\u001b[0;34m\u001b[0m\u001b[0;34m\u001b[0m\u001b[0m\n",
      "\u001b[0;31mNameError\u001b[0m: name 'loadmat' is not defined"
     ]
    }
   ],
   "source": [
    "data = loadmat(\"{}/1 weitzman/SCC_00002_comp.mat\".format(quad_rule))\n",
    "\n",
    "total_SCC = np.array(data['SCC'])[:,0]\n",
    "external_SCC = np.array(data['SCC2'])[:,0]\n",
    "uncertainty_SCC = np.array(data['SCC3'])[:,0]\n",
    "private_SCC = np.array(data['SCC1'])[:,0]\n",
    "x = np.linspace(0,100,400)\n",
    "\n",
    "total = go.Scatter(x = x, y = total_SCC,\n",
    "               name = 'Total', line = dict(color = '#1f77b4', dash='solid', width = 4),\\\n",
    "                   showlegend = False)\n",
    "external = go.Scatter(x = x, y = external_SCC,\n",
    "               name = 'External', line = dict(color = 'red', dash='dot', width = 4),\\\n",
    "                      showlegend = False)\n",
    "uncertainty = go.Scatter(x = x, y = uncertainty_SCC,\n",
    "               name = 'Uncertainty', line = dict(color = 'green', dash='dashdot', width = 4),\\\n",
    "                         showlegend = False)\n",
    "private = go.Scatter(x = x, y = private_SCC,\n",
    "               name = 'Private', line = dict(color = 'black', dash='dash', width = 4),\\\n",
    "                     showlegend = False)\n",
    "\n",
    "annotations=[dict(x=76, y=2550, text=\"Total\", textangle=0, ax=-100,\n",
    "            ay=-75, font=dict(color=\"black\", size=12), arrowcolor=\"black\",\n",
    "            arrowsize=3, arrowwidth=1, arrowhead=1),\n",
    "             \n",
    "            dict(x=85, y=2400, text=\"External\", textangle=0, ax=100,\n",
    "            ay=-50, font=dict(color=\"black\", size=12), arrowcolor=\"black\",\n",
    "            arrowsize=3, arrowwidth=1, arrowhead=1),\n",
    "             \n",
    "            dict(x=95, y=2295, text=\"Uncertainty\", textangle=0, ax=-60,\n",
    "            ay=50, font=dict(color=\"black\", size=12), arrowcolor=\"black\",\n",
    "            arrowsize=3, arrowwidth=1, arrowhead=1),\n",
    "             \n",
    "            dict(x=96.5, y=31, text=\"Private\", textangle=0, ax=-50,\n",
    "            ay=-30, font=dict(color=\"black\", size=12), arrowcolor=\"black\",\n",
    "            arrowsize=3, arrowwidth=1, arrowhead=1)]\n",
    "\n",
    "layout = dict(title = 'Competitive SCC Decomposition-High Damage',\n",
    "              titlefont = dict(size = 32),\n",
    "              xaxis = go.layout.XAxis(title=go.layout.xaxis.Title(\n",
    "                                text='Years', font=dict(size=24)),\n",
    "                                     tickfont=dict(size=12), showgrid = False),\n",
    "              yaxis = go.layout.YAxis(title=go.layout.yaxis.Title(\n",
    "                                text='Dollars per Ton of Carbon', font=dict(size=24)),\n",
    "                                     tickfont=dict(size=12), showgrid = False), \n",
    "              annotations=annotations\n",
    "              )\n",
    "\n",
    "fig = dict(data = [total, external, uncertainty, private], layout = layout)\n",
    "iplot(fig)\n",
    "\n",
    "pio.write_image(fig, 'plots/SCC_1weitzman_comp_{}.pdf'.format(quad_rule), width=900, height=600, scale=1)"
   ]
  },
  {
   "cell_type": "code",
   "execution_count": 4,
   "metadata": {},
   "outputs": [
    {
     "ename": "NameError",
     "evalue": "name 'loadmat' is not defined",
     "output_type": "error",
     "traceback": [
      "\u001b[0;31m---------------------------------------------------------------------------\u001b[0m",
      "\u001b[0;31mNameError\u001b[0m                                 Traceback (most recent call last)",
      "\u001b[0;32m<ipython-input-4-0d3ff9396f10>\u001b[0m in \u001b[0;36m<module>\u001b[0;34m\u001b[0m\n\u001b[0;32m----> 1\u001b[0;31m \u001b[0mdata\u001b[0m \u001b[0;34m=\u001b[0m \u001b[0mloadmat\u001b[0m\u001b[0;34m(\u001b[0m\u001b[0;34m\"{}/Low Dmg/SCC_00002_comp.mat\"\u001b[0m\u001b[0;34m.\u001b[0m\u001b[0mformat\u001b[0m\u001b[0;34m(\u001b[0m\u001b[0mquad_rule\u001b[0m\u001b[0;34m)\u001b[0m\u001b[0;34m)\u001b[0m\u001b[0;34m\u001b[0m\u001b[0;34m\u001b[0m\u001b[0m\n\u001b[0m\u001b[1;32m      2\u001b[0m \u001b[0;34m\u001b[0m\u001b[0m\n\u001b[1;32m      3\u001b[0m \u001b[0mtotal_SCC\u001b[0m \u001b[0;34m=\u001b[0m \u001b[0mnp\u001b[0m\u001b[0;34m.\u001b[0m\u001b[0marray\u001b[0m\u001b[0;34m(\u001b[0m\u001b[0mdata\u001b[0m\u001b[0;34m[\u001b[0m\u001b[0;34m'SCC'\u001b[0m\u001b[0;34m]\u001b[0m\u001b[0;34m)\u001b[0m\u001b[0;34m[\u001b[0m\u001b[0;34m:\u001b[0m\u001b[0;34m,\u001b[0m\u001b[0;36m0\u001b[0m\u001b[0;34m]\u001b[0m\u001b[0;34m\u001b[0m\u001b[0;34m\u001b[0m\u001b[0m\n\u001b[1;32m      4\u001b[0m \u001b[0mexternal_SCC\u001b[0m \u001b[0;34m=\u001b[0m \u001b[0mnp\u001b[0m\u001b[0;34m.\u001b[0m\u001b[0marray\u001b[0m\u001b[0;34m(\u001b[0m\u001b[0mdata\u001b[0m\u001b[0;34m[\u001b[0m\u001b[0;34m'SCC2'\u001b[0m\u001b[0;34m]\u001b[0m\u001b[0;34m)\u001b[0m\u001b[0;34m[\u001b[0m\u001b[0;34m:\u001b[0m\u001b[0;34m,\u001b[0m\u001b[0;36m0\u001b[0m\u001b[0;34m]\u001b[0m\u001b[0;34m\u001b[0m\u001b[0;34m\u001b[0m\u001b[0m\n\u001b[1;32m      5\u001b[0m \u001b[0muncertainty_SCC\u001b[0m \u001b[0;34m=\u001b[0m \u001b[0mnp\u001b[0m\u001b[0;34m.\u001b[0m\u001b[0marray\u001b[0m\u001b[0;34m(\u001b[0m\u001b[0mdata\u001b[0m\u001b[0;34m[\u001b[0m\u001b[0;34m'SCC3'\u001b[0m\u001b[0;34m]\u001b[0m\u001b[0;34m)\u001b[0m\u001b[0;34m[\u001b[0m\u001b[0;34m:\u001b[0m\u001b[0;34m,\u001b[0m\u001b[0;36m0\u001b[0m\u001b[0;34m]\u001b[0m\u001b[0;34m\u001b[0m\u001b[0;34m\u001b[0m\u001b[0m\n",
      "\u001b[0;31mNameError\u001b[0m: name 'loadmat' is not defined"
     ]
    }
   ],
   "source": [
    "data = loadmat(\"{}/Low Dmg/SCC_00002_comp.mat\".format(quad_rule))\n",
    "\n",
    "total_SCC = np.array(data['SCC'])[:,0]\n",
    "external_SCC = np.array(data['SCC2'])[:,0]\n",
    "uncertainty_SCC = np.array(data['SCC3'])[:,0]\n",
    "private_SCC = np.array(data['SCC1'])[:,0]\n",
    "x = np.linspace(0,100,400)\n",
    "\n",
    "total = go.Scatter(x = x, y = total_SCC,\n",
    "               name = 'Total', line = dict(color = '#1f77b4', dash='solid', width = 4),\\\n",
    "                   showlegend = False)\n",
    "external = go.Scatter(x = x, y = external_SCC,\n",
    "               name = 'External', line = dict(color = 'red', dash='dot', width = 4),\\\n",
    "                      showlegend = False)\n",
    "uncertainty = go.Scatter(x = x, y = uncertainty_SCC,\n",
    "               name = 'Uncertainty', line = dict(color = 'green', dash='dashdot', width = 4),\\\n",
    "                         showlegend = False)\n",
    "private = go.Scatter(x = x, y = private_SCC,\n",
    "               name = 'Private', line = dict(color = 'black', dash='dash', width = 4),\\\n",
    "                     showlegend = False)\n",
    "\n",
    "annotations=[dict(x=77, y=449, text=\"Total\", textangle=0, ax=-100,\n",
    "            ay=-75, font=dict(color=\"black\", size=12), arrowcolor=\"black\",\n",
    "            arrowsize=3, arrowwidth=1, arrowhead=1),\n",
    "             \n",
    "            dict(x=92, y=573, text=\"External\", textangle=0, ax=-30,\n",
    "            ay=-70, font=dict(color=\"black\", size=12), arrowcolor=\"black\",\n",
    "            arrowsize=3, arrowwidth=1, arrowhead=1),\n",
    "             \n",
    "            dict(x=92, y=196, text=\"Uncertainty\", textangle=0, ax=-60,\n",
    "            ay=40, font=dict(color=\"black\", size=12), arrowcolor=\"black\",\n",
    "            arrowsize=3, arrowwidth=1, arrowhead=1),\n",
    "             \n",
    "            dict(x=95, y=0, text=\"Private\", textangle=0, ax=20,\n",
    "            ay=-30, font=dict(color=\"black\", size=12), arrowcolor=\"black\",\n",
    "            arrowsize=3, arrowwidth=1, arrowhead=1)]\n",
    "\n",
    "layout = dict(title = 'Competitive SCC Decomposition-Low Damage',\n",
    "              titlefont = dict(size = 32),\n",
    "              xaxis = go.layout.XAxis(title=go.layout.xaxis.Title(\n",
    "                                text='Years', font=dict(size=24)),\n",
    "                                     tickfont=dict(size=12), showgrid = False),\n",
    "              yaxis = go.layout.YAxis(title=go.layout.yaxis.Title(\n",
    "                                text='Dollars per Ton of Carbon', font=dict(size=24)),\n",
    "                                     tickfont=dict(size=12), showgrid = False), \n",
    "              annotations=annotations\n",
    "              )\n",
    "\n",
    "fig = dict(data = [total, external, uncertainty, private], layout = layout)\n",
    "iplot(fig)\n",
    "\n",
    "pio.write_image(fig, 'plots/SCC_nordhaus_comp_{}.pdf'.format(quad_rule), width=900, height=600, scale=1)"
   ]
  },
  {
   "cell_type": "code",
   "execution_count": null,
   "metadata": {},
   "outputs": [],
   "source": []
  },
  {
   "cell_type": "code",
   "execution_count": null,
   "metadata": {},
   "outputs": [],
   "source": []
  },
  {
   "cell_type": "markdown",
   "metadata": {},
   "source": [
    "## References"
   ]
  },
  {
   "cell_type": "markdown",
   "metadata": {},
   "source": [
    "Example reference: Eberly, Janice, and Neng Wang. 2009. \"Capital Reallocation and Growth.\" American Economic Review, 99 (2): 560-66."
   ]
  }
 ],
 "metadata": {
  "kernelspec": {
   "display_name": "Python 3",
   "language": "python",
   "name": "python3"
  },
  "language_info": {
   "codemirror_mode": {
    "name": "ipython",
    "version": 3
   },
   "file_extension": ".py",
   "mimetype": "text/x-python",
   "name": "python",
   "nbconvert_exporter": "python",
   "pygments_lexer": "ipython3",
   "version": "3.7.3"
  },
  "latex_envs": {
   "LaTeX_envs_menu_present": true,
   "autoclose": false,
   "autocomplete": true,
   "bibliofile": "biblio.bib",
   "cite_by": "apalike",
   "current_citInitial": 1,
   "eqLabelWithNumbers": true,
   "eqNumInitial": 1,
   "hotkeys": {
    "equation": "Ctrl-E",
    "itemize": "Ctrl-I"
   },
   "labels_anchors": false,
   "latex_user_defs": false,
   "report_style_numbering": false,
   "user_envs_cfg": false
  }
 },
 "nbformat": 4,
 "nbformat_minor": 2
}
