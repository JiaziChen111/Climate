{
 "cells": [
  {
   "cell_type": "markdown",
   "metadata": {},
   "source": [
    "# Pricing Uncertainty Induced by Climate Change\n",
    "\n",
    "## Overview\n",
    "\n",
    "by [Michael Barnett](https://sites.google.com/site/michaelduglasbarnett/home), [William Brock](https://www.ssc.wisc.edu/~wbrock/) and [Lars Peter Hansen](https://larspeterhansen.org/).\n",
    "\n",
    "The latest draft of the paper can be found [here](https://larspeterhansen.org/research/papers/).\n",
    "\n",
    "Notebook by: Jiaming Wang\n",
    "\n",
    "Users should refer to the notebook modelling [climate damages to consumption](ConsumptionModel.ipynb) and [climate damages to growth](GrowthModel.ipynb) for more computational details"
   ]
  },
  {
   "cell_type": "markdown",
   "metadata": {
    "toc": true
   },
   "source": [
    "<h1>Table of Contents<span class=\"tocSkip\"></span></h1>\n",
    "<div class=\"toc\"><ul class=\"toc-item\"><li><span><a href=\"#Overview\" data-toc-modified-id=\"Overview-1\"><span class=\"toc-item-num\">1&nbsp;&nbsp;</span>Overview</a></span></li><li><span><a href=\"#Economic-Damages-from-Climate-Change-Settings\" data-toc-modified-id=\"Economic-Damages-from-Climate-Change-Settings-2\"><span class=\"toc-item-num\">2&nbsp;&nbsp;</span>Economic Damages from Climate Change Settings</a></span><ul class=\"toc-item\"><li><span><a href=\"#Damage-function-under-damages-to-consumption-setting\" data-toc-modified-id=\"Damage-function-under-damages-to-consumption-setting-2.1\"><span class=\"toc-item-num\">2.1&nbsp;&nbsp;</span>Damage function under damages to consumption setting</a></span></li><li><span><a href=\"#Damage-function-under-damages-to-growth-setting\" data-toc-modified-id=\"Damage-function-under-damages-to-growth-setting-2.2\"><span class=\"toc-item-num\">2.2&nbsp;&nbsp;</span>Damage function under damages to growth setting</a></span></li><li><span><a href=\"#Implications-of-the-different-damage-settings\" data-toc-modified-id=\"Implications-of-the-different-damage-settings-2.3\"><span class=\"toc-item-num\">2.3&nbsp;&nbsp;</span>Implications of the different damage settings</a></span></li><li><span><a href=\"#Social-cost-of-carbon-and-emissions-comparisons-across-damage-specifications\" data-toc-modified-id=\"Social-cost-of-carbon-and-emissions-comparisons-across-damage-specifications-2.4\"><span class=\"toc-item-num\">2.4&nbsp;&nbsp;</span>Social cost of carbon and emissions comparisons across damage specifications</a></span></li></ul></li><li><span><a href=\"#Ambiguity-Aversion\" data-toc-modified-id=\"Ambiguity-Aversion-3\"><span class=\"toc-item-num\">3&nbsp;&nbsp;</span>Ambiguity Aversion</a></span><ul class=\"toc-item\"><li><span><a href=\"#Implications-of-ambiguity-aversion-across-damage-specifications\" data-toc-modified-id=\"Implications-of-ambiguity-aversion-across-damage-specifications-3.1\"><span class=\"toc-item-num\">3.1&nbsp;&nbsp;</span>Implications of ambiguity aversion across damage specifications</a></span></li></ul></li><li><span><a href=\"#Densities-and-Relative-Entropies\" data-toc-modified-id=\"Densities-and-Relative-Entropies-4\"><span class=\"toc-item-num\">4&nbsp;&nbsp;</span>Densities and Relative Entropies</a></span></li></ul></div>"
   ]
  },
  {
   "cell_type": "code",
   "execution_count": null,
   "metadata": {
    "ExecuteTime": {
     "end_time": "2019-12-18T20:46:12.566809Z",
     "start_time": "2019-12-18T20:46:10.449965Z"
    }
   },
   "outputs": [],
   "source": [
    "# Import packages\n",
    "import sys\n",
    "sys.path.append('./src/')\n",
    "from modelClass import *\n",
    "import ipywidgets as widgets\n",
    "from ipywidgets import Layout,Label,interactive_output, interactive\n",
    "from IPython.core.display import display\n",
    "init_notebook_mode()\n",
    "\n",
    "p = PlottingModule()"
   ]
  },
  {
   "cell_type": "markdown",
   "metadata": {},
   "source": [
    "## Economic Damages from Climate Change Settings\n",
    "### Damage function under damages to consumption setting\n",
    "This figure shows the damage function and uncertainty about the damage function for the setting where climate damages impact consumption. The two curves plot $D$ as a function of the temperature net of preindustrial levels for two alternative damage configurations (high damages and low damages). The vertical axis gives the corresponding damage percentage."
   ]
  },
  {
   "cell_type": "code",
   "execution_count": null,
   "metadata": {
    "ExecuteTime": {
     "end_time": "2019-12-18T20:46:13.620264Z",
     "start_time": "2019-12-18T20:46:12.568739Z"
    }
   },
   "outputs": [],
   "source": [
    "p.Figure3()\n",
    "p.Figure3a()"
   ]
  },
  {
   "cell_type": "markdown",
   "metadata": {},
   "source": [
    "### Damage function under damages to growth setting\n",
    "\n",
    "This figure shows the damage function and uncertainty about the damage function for the setting where climate damages impact economic growth. The reported quintiles are based on estimates from Burke et al. (2018).  The blue solid line represents the probability $.2$ quintile, and the red dot-dashed line represents the $.8$ quintile.  The intermediate curves are the $.4$ and $.6$ quintiles."
   ]
  },
  {
   "cell_type": "code",
   "execution_count": null,
   "metadata": {
    "ExecuteTime": {
     "end_time": "2019-12-18T20:46:14.969900Z",
     "start_time": "2019-12-18T20:46:13.622259Z"
    }
   },
   "outputs": [],
   "source": [
    "p.Figure4()"
   ]
  },
  {
   "cell_type": "markdown",
   "metadata": {},
   "source": [
    "### Implications of the different damage settings\n",
    "\n",
    "__Click the buttons__ to see how changing the damage speficification affects worst-case densities and the Social Cost of Carbon."
   ]
  },
  {
   "cell_type": "code",
   "execution_count": null,
   "metadata": {
    "ExecuteTime": {
     "end_time": "2019-12-18T20:46:16.167608Z",
     "start_time": "2019-12-18T20:46:14.972893Z"
    }
   },
   "outputs": [],
   "source": [
    "style = {'description_width': 'initial'}\n",
    "dmg = widgets.ToggleButtons(\n",
    "    options=['High', 'Low', 'Weighted'],\n",
    "    value = 'Weighted',\n",
    "    disabled=False,\n",
    "    button_style='', # 'success', 'info', 'warning', 'danger' or ''\n",
    "    tooltips=['Weitzman Damage Function', 'Nordhaus Damage Function', 'Equal Weighted'],\n",
    "#     layout=Layout(width='100%', height='80px'),\n",
    "    description = \"Damage Function Specification\",\n",
    "    style = style\n",
    ")\n",
    "def singlePlot(damageSpecs):\n",
    "    p.densityPlot(damageSpecs)\n",
    "    p.SCCDecomposePlot(damageSpecs)\n",
    "\n",
    "hh = interactive(singlePlot, damageSpecs = dmg)\n",
    "hh"
   ]
  },
  {
   "cell_type": "markdown",
   "metadata": {},
   "source": [
    "### Social cost of carbon and emissions comparisons across damage specifications\n",
    "__Press Ctrl and Click the buttons to multi select__ and compare how changing the damage specification and ambiguity aversion affect emissions pathways and the Social Cost of Carbon."
   ]
  },
  {
   "cell_type": "code",
   "execution_count": null,
   "metadata": {
    "ExecuteTime": {
     "end_time": "2019-12-18T20:46:16.730867Z",
     "start_time": "2019-12-18T20:46:16.168605Z"
    }
   },
   "outputs": [],
   "source": [
    "damageSpecs = widgets.SelectMultiple(\n",
    "    options=['High', 'Low', 'Weighted'],\n",
    "    value=['High', 'Low', 'Weighted'],\n",
    "    #rows=10,\n",
    "    disabled=False,\n",
    "#     layout=Layout(width='20%', height='60px')\n",
    "    description = \"Damage Function Specification\",\n",
    "    style = style\n",
    ")\n",
    "\n",
    "aversionSpecs = widgets.SelectMultiple(\n",
    "    options=['Averse', 'Neutral'],\n",
    "    value=['Averse'],\n",
    "    #rows=10,\n",
    "    disabled=False,\n",
    "#     layout=Layout(width='20%', height='60px')\n",
    "    description = \"Ambiguity Aversion Specification\",\n",
    "    style = style\n",
    ")\n",
    "def comparaPlot(damageSpecs, aversionSpecs):\n",
    "    p.SCCPlot(damageSpecs, aversionSpecs, key = 'CrossModel')\n",
    "    p.emissionPlot(damageSpecs, aversionSpecs)\n",
    "\n",
    "# display(VBox([HBox([Label('Damage Function Specification'),damageSpecs,Label('Aversion Specification'),aversionSpecs])]))\n",
    "\n",
    "hh = interactive_output(comparaPlot, dict(damageSpecs = damageSpecs, aversionSpecs = aversionSpecs))\n",
    "# controls = widgets.HBox(hh.children[:-1], layout = Layout(flex_flow='row wrap'))\n",
    "ui = widgets.HBox([damageSpecs, aversionSpecs])\n",
    "display(ui,hh)"
   ]
  },
  {
   "cell_type": "markdown",
   "metadata": {
    "collapsed": true
   },
   "source": [
    "## Ambiguity Aversion\n",
    "### Implications of ambiguity aversion across damage specifications\n",
    "__Toggle the sliders__ to see how changing the $\\xi_p$ parameter affects emissions and the social cost of carbon."
   ]
  },
  {
   "cell_type": "code",
   "execution_count": null,
   "metadata": {
    "ExecuteTime": {
     "end_time": "2019-12-18T20:46:20.052302Z",
     "start_time": "2019-12-18T20:46:16.733824Z"
    },
    "scrolled": false
   },
   "outputs": [],
   "source": [
    "p.SmoothPlot()"
   ]
  },
  {
   "cell_type": "markdown",
   "metadata": {},
   "source": [
    "This plots shows how changing $\\xi_p$ affects the value of the social cost of carbon via color bar.Highlighting how $\\xi_p$ affects the value of social cost of carbon via color bar"
   ]
  },
  {
   "cell_type": "code",
   "execution_count": null,
   "metadata": {
    "ExecuteTime": {
     "end_time": "2019-12-18T20:46:20.701986Z",
     "start_time": "2019-12-18T20:46:20.055296Z"
    }
   },
   "outputs": [],
   "source": [
    "p.SCCPlot(key = 'CrossAmbiguityAversion')"
   ]
  },
  {
   "cell_type": "markdown",
   "metadata": {},
   "source": [
    "## Densities and Relative Entropies\n",
    "__Toggle the slider__ to see how the worst-case densities and relative entropies shift over time for the model setting where damages are to consumption and the ambiguity averse planner weights across the two alternatve damage functions (high and low). The blue dashed line dentoes the current year."
   ]
  },
  {
   "cell_type": "code",
   "execution_count": null,
   "metadata": {
    "ExecuteTime": {
     "end_time": "2019-12-18T20:46:25.369114Z",
     "start_time": "2019-12-18T20:46:20.705976Z"
    },
    "scrolled": false
   },
   "outputs": [],
   "source": [
    "p.densityIntPlot()"
   ]
  },
  {
   "cell_type": "code",
   "execution_count": null,
   "metadata": {},
   "outputs": [],
   "source": []
  }
 ],
 "metadata": {
  "kernelspec": {
   "display_name": "Python 3",
   "language": "python",
   "name": "python3"
  },
  "language_info": {
   "codemirror_mode": {
    "name": "ipython",
    "version": 3
   },
   "file_extension": ".py",
   "mimetype": "text/x-python",
   "name": "python",
   "nbconvert_exporter": "python",
   "pygments_lexer": "ipython3",
   "version": "3.7.3"
  },
  "toc": {
   "base_numbering": 1,
   "nav_menu": {},
   "number_sections": true,
   "sideBar": true,
   "skip_h1_title": true,
   "title_cell": "Table of Contents",
   "title_sidebar": "Contents",
   "toc_cell": true,
   "toc_position": {},
   "toc_section_display": true,
   "toc_window_display": false
  },
  "varInspector": {
   "cols": {
    "lenName": 16,
    "lenType": 16,
    "lenVar": 40
   },
   "kernels_config": {
    "python": {
     "delete_cmd_postfix": "",
     "delete_cmd_prefix": "del ",
     "library": "var_list.py",
     "varRefreshCmd": "print(var_dic_list())"
    },
    "r": {
     "delete_cmd_postfix": ") ",
     "delete_cmd_prefix": "rm(",
     "library": "var_list.r",
     "varRefreshCmd": "cat(var_dic_list()) "
    }
   },
   "types_to_exclude": [
    "module",
    "function",
    "builtin_function_or_method",
    "instance",
    "_Feature"
   ],
   "window_display": false
  }
 },
 "nbformat": 4,
 "nbformat_minor": 2
}
