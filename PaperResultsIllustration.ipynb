{
 "cells": [
  {
   "cell_type": "markdown",
   "metadata": {},
   "source": [
    "# Pricing Uncertainty Induced by Climate Change\n",
    "\n",
    "## Overview\n",
    "\n",
    "This notebook is to display the solutions for the paper \"Pricing Uncertainty Induced by Climate Change\" by Professor [Michael Barnett](https://sites.google.com/site/michaelduglasbarnett/home), Professor [William Brock](https://www.ssc.wisc.edu/~wbrock/) and Professor [Lars Peter Hansen](https://larspeterhansen.org/), you could find the latest draft [here](https://larspeterhansen.org/research/papers/). The notebook includes two sections:\n",
    "\n",
    "Notebook by: Jiaming Wang\n",
    "\n",
    "Please look into notebook [Preference Model](PreferenceModel.ipynb) and [Growth Model](GrowthModel.ipynb) for step by step details about how we solved models under two different damage settings"
   ]
  },
  {
   "cell_type": "markdown",
   "metadata": {
    "toc": true
   },
   "source": [
    "<h1>Table of Contents<span class=\"tocSkip\"></span></h1>\n",
    "<div class=\"toc\"><ul class=\"toc-item\"><li><span><a href=\"#Overview\" data-toc-modified-id=\"Overview-1\"><span class=\"toc-item-num\">1&nbsp;&nbsp;</span>Overview</a></span></li><li><span><a href=\"#Damage-specification\" data-toc-modified-id=\"Damage-specification-2\"><span class=\"toc-item-num\">2&nbsp;&nbsp;</span>Damage specification</a></span><ul class=\"toc-item\"><li><span><a href=\"#Fomulation-the-econonmic-damage-function-under-preference-setting\" data-toc-modified-id=\"Fomulation-the-econonmic-damage-function-under-preference-setting-2.1\"><span class=\"toc-item-num\">2.1&nbsp;&nbsp;</span>Fomulation the econonmic damage function under preference setting</a></span></li><li><span><a href=\"#Fomulation-the-econonmic-damage-under-growth-setting\" data-toc-modified-id=\"Fomulation-the-econonmic-damage-under-growth-setting-2.2\"><span class=\"toc-item-num\">2.2&nbsp;&nbsp;</span>Fomulation the econonmic damage under growth setting</a></span></li><li><span><a href=\"#How-damage-specification-affect-model-results\" data-toc-modified-id=\"How-damage-specification-affect-model-results-2.3\"><span class=\"toc-item-num\">2.3&nbsp;&nbsp;</span>How damage specification affect model results</a></span></li><li><span><a href=\"#This-is-Social-Cost-of-Carbon-and-Emission-Comparisons-across-models\" data-toc-modified-id=\"This-is-Social-Cost-of-Carbon-and-Emission-Comparisons-across-models-2.4\"><span class=\"toc-item-num\">2.4&nbsp;&nbsp;</span>This is Social Cost of Carbon and Emission Comparisons across models</a></span></li></ul></li><li><span><a href=\"#Ambiguity-aversion\" data-toc-modified-id=\"Ambiguity-aversion-3\"><span class=\"toc-item-num\">3&nbsp;&nbsp;</span>Ambiguity aversion</a></span><ul class=\"toc-item\"><li><span><a href=\"#How-ambiguity-aversion-affect-model-results\" data-toc-modified-id=\"How-ambiguity-aversion-affect-model-results-3.1\"><span class=\"toc-item-num\">3.1&nbsp;&nbsp;</span>How ambiguity aversion affect model results</a></span></li></ul></li><li><span><a href=\"#Densities-and-Relative-Entropies\" data-toc-modified-id=\"Densities-and-Relative-Entropies-4\"><span class=\"toc-item-num\">4&nbsp;&nbsp;</span>Densities and Relative Entropies</a></span></li></ul></div>"
   ]
  },
  {
   "cell_type": "code",
   "execution_count": null,
   "metadata": {
    "ExecuteTime": {
     "end_time": "2019-12-07T00:09:33.232607Z",
     "start_time": "2019-12-07T00:09:31.700670Z"
    }
   },
   "outputs": [],
   "source": [
    "# Import packages\n",
    "import sys\n",
    "sys.path.append('./src/')\n",
    "from modelClass import *\n",
    "import ipywidgets as widgets\n",
    "from ipywidgets import Layout,Label,interactive_output, interactive\n",
    "from IPython.core.display import display\n",
    "init_notebook_mode()\n",
    "\n",
    "p = PlottingModule()"
   ]
  },
  {
   "cell_type": "markdown",
   "metadata": {},
   "source": [
    "## Damage specification\n",
    "### Fomulation the econonmic damage function under preference setting\n",
    "Economic damage uncertainty.   The two curves plot $D$ as a function of the temperature net of preindustrial levels for two alternative damage configurations.  The vertical axis gives the corresponding damage percentage."
   ]
  },
  {
   "cell_type": "code",
   "execution_count": null,
   "metadata": {
    "ExecuteTime": {
     "end_time": "2019-12-07T00:09:37.710106Z",
     "start_time": "2019-12-07T00:09:36.852402Z"
    }
   },
   "outputs": [],
   "source": [
    "p.Figure3()\n",
    "p.Figure3a()"
   ]
  },
  {
   "cell_type": "markdown",
   "metadata": {},
   "source": [
    "### Fomulation the econonmic damage under growth setting\n",
    "Macroeconomic growth rate damages.   The reported quintiles are based on estimates from Burke et al. (2018).  The blue solid line represents the probability $.2$ quintile, and the red dot-dashed line represents the $.8$ quintile.  The intermediate curves are the $.4$ and $.6$ quintiles."
   ]
  },
  {
   "cell_type": "code",
   "execution_count": null,
   "metadata": {
    "ExecuteTime": {
     "end_time": "2019-12-07T00:09:41.744601Z",
     "start_time": "2019-12-07T00:09:40.590634Z"
    }
   },
   "outputs": [],
   "source": [
    "p.Figure4()"
   ]
  },
  {
   "cell_type": "markdown",
   "metadata": {},
   "source": [
    "### How damage specification affect model results\n",
    "\n",
    "__Click the buttons__ to see how change of damage speficification affect worst case densities and Social Cost of Carbon"
   ]
  },
  {
   "cell_type": "code",
   "execution_count": null,
   "metadata": {
    "ExecuteTime": {
     "end_time": "2019-12-07T00:09:44.633202Z",
     "start_time": "2019-12-07T00:09:43.725525Z"
    }
   },
   "outputs": [],
   "source": [
    "style = {'description_width': 'initial'}\n",
    "dmg = widgets.ToggleButtons(\n",
    "    options=['High', 'Low', 'Weighted'],\n",
    "    value = 'Weighted',\n",
    "    disabled=False,\n",
    "    button_style='', # 'success', 'info', 'warning', 'danger' or ''\n",
    "    tooltips=['Weitzman Damage Function', 'Nordhaus Damage Function', 'Equal Weighted'],\n",
    "#     layout=Layout(width='100%', height='80px'),\n",
    "    description = \"Damage Function Specification\",\n",
    "    style = style\n",
    ")\n",
    "def singlePlot(damageSpecs):\n",
    "    p.densityPlot(damageSpecs)\n",
    "    p.SCCDecomposePlot(damageSpecs)\n",
    "\n",
    "hh = interactive(singlePlot, damageSpecs = dmg)\n",
    "hh"
   ]
  },
  {
   "cell_type": "markdown",
   "metadata": {},
   "source": [
    "### This is Social Cost of Carbon and Emission Comparisons across models\n",
    "__Press Ctrl and Click the buttons to multi select__ to compare how damage speficification and ambiguity aversion affect emissions and Social Cost of Carbon"
   ]
  },
  {
   "cell_type": "code",
   "execution_count": null,
   "metadata": {
    "ExecuteTime": {
     "end_time": "2019-12-07T00:10:30.427033Z",
     "start_time": "2019-12-07T00:10:30.008130Z"
    }
   },
   "outputs": [],
   "source": [
    "damageSpecs = widgets.SelectMultiple(\n",
    "    options=['High', 'Low', 'Weighted'],\n",
    "    value=['High', 'Low', 'Weighted'],\n",
    "    #rows=10,\n",
    "    disabled=False,\n",
    "#     layout=Layout(width='20%', height='60px')\n",
    "    description = \"Damage Function Specification\",\n",
    "    style = style\n",
    ")\n",
    "\n",
    "aversionSpecs = widgets.SelectMultiple(\n",
    "    options=['Averse', 'Neutral'],\n",
    "    value=['Averse'],\n",
    "    #rows=10,\n",
    "    disabled=False,\n",
    "#     layout=Layout(width='20%', height='60px')\n",
    "    description = \"Ambiguity Aversion Specification\",\n",
    "    style = style\n",
    ")\n",
    "def comparaPlot(damageSpecs, aversionSpecs):\n",
    "    p.SCCPlot(damageSpecs, aversionSpecs, key = 'CrossModel')\n",
    "    p.emissionPlot(damageSpecs, aversionSpecs)\n",
    "\n",
    "# display(VBox([HBox([Label('Damage Function Specification'),damageSpecs,Label('Aversion Specification'),aversionSpecs])]))\n",
    "\n",
    "hh = interactive_output(comparaPlot, dict(damageSpecs = damageSpecs, aversionSpecs = aversionSpecs))\n",
    "# controls = widgets.HBox(hh.children[:-1], layout = Layout(flex_flow='row wrap'))\n",
    "ui = widgets.HBox([damageSpecs, aversionSpecs])\n",
    "display(ui,hh)"
   ]
  },
  {
   "cell_type": "markdown",
   "metadata": {
    "collapsed": true
   },
   "source": [
    "## Ambiguity aversion\n",
    "### How ambiguity aversion affect model results\n",
    "__Toggle the sliders__ to see how $\\xi_p$ parameter change Social Cost of Carbon and Emissions"
   ]
  },
  {
   "cell_type": "code",
   "execution_count": null,
   "metadata": {
    "ExecuteTime": {
     "end_time": "2019-12-07T00:11:45.201390Z",
     "start_time": "2019-12-07T00:11:43.280316Z"
    },
    "scrolled": false
   },
   "outputs": [],
   "source": [
    "p.SmoothPlot()"
   ]
  },
  {
   "cell_type": "markdown",
   "metadata": {},
   "source": [
    "Highlighting how $\\xi_p$ affects the value of social cost of carbon via color bar"
   ]
  },
  {
   "cell_type": "code",
   "execution_count": null,
   "metadata": {
    "ExecuteTime": {
     "end_time": "2019-12-07T00:12:32.825459Z",
     "start_time": "2019-12-07T00:12:32.516252Z"
    }
   },
   "outputs": [],
   "source": [
    "p.SCCPlot(key = 'CrossAmbiguityAversion')"
   ]
  },
  {
   "cell_type": "markdown",
   "metadata": {},
   "source": [
    "## Densities and Relative Entropies\n",
    "toggle the slider to see how worst case densities and relative entropies shift over time (weighted consumption damage model under ambiguity aversion)\n",
    "Blue dash line dentoes the current year"
   ]
  },
  {
   "cell_type": "code",
   "execution_count": null,
   "metadata": {
    "ExecuteTime": {
     "end_time": "2019-12-07T00:14:15.561683Z",
     "start_time": "2019-12-07T00:14:12.129483Z"
    }
   },
   "outputs": [],
   "source": [
    "p.densityIntPlot()"
   ]
  },
  {
   "cell_type": "code",
   "execution_count": null,
   "metadata": {},
   "outputs": [],
   "source": []
  }
 ],
 "metadata": {
  "kernelspec": {
   "display_name": "Python 3",
   "language": "python",
   "name": "python3"
  },
  "language_info": {
   "codemirror_mode": {
    "name": "ipython",
    "version": 3
   },
   "file_extension": ".py",
   "mimetype": "text/x-python",
   "name": "python",
   "nbconvert_exporter": "python",
   "pygments_lexer": "ipython3",
   "version": "3.7.3"
  },
  "toc": {
   "base_numbering": 1,
   "nav_menu": {},
   "number_sections": true,
   "sideBar": true,
   "skip_h1_title": true,
   "title_cell": "Table of Contents",
   "title_sidebar": "Contents",
   "toc_cell": true,
   "toc_position": {},
   "toc_section_display": true,
   "toc_window_display": true
  },
  "varInspector": {
   "cols": {
    "lenName": 16,
    "lenType": 16,
    "lenVar": 40
   },
   "kernels_config": {
    "python": {
     "delete_cmd_postfix": "",
     "delete_cmd_prefix": "del ",
     "library": "var_list.py",
     "varRefreshCmd": "print(var_dic_list())"
    },
    "r": {
     "delete_cmd_postfix": ") ",
     "delete_cmd_prefix": "rm(",
     "library": "var_list.r",
     "varRefreshCmd": "cat(var_dic_list()) "
    }
   },
   "types_to_exclude": [
    "module",
    "function",
    "builtin_function_or_method",
    "instance",
    "_Feature"
   ],
   "window_display": false
  }
 },
 "nbformat": 4,
 "nbformat_minor": 2
}
